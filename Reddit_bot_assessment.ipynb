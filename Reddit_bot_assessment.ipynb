{
  "cells": [
    {
      "cell_type": "markdown",
      "metadata": {
        "id": "view-in-github",
        "colab_type": "text"
      },
      "source": [
        "<a href=\"https://colab.research.google.com/github/Sonuthahreen/reddit_bot_basics/blob/main/Reddit_bot_assessment.ipynb\" target=\"_parent\"><img src=\"https://colab.research.google.com/assets/colab-badge.svg\" alt=\"Open In Colab\"/></a>"
      ]
    },
    {
      "cell_type": "markdown",
      "source": [
        "\n",
        "This bot is a computer program that can perform tasks on Reddit.\n",
        "\n",
        "- It will be able to read posts, make comments, and post new things on reddit\n",
        "- It can keep track of new post on certain topic and send us an email.\n",
        "- It can initiate a conversation when someone joins the Reddit group."
      ],
      "metadata": {
        "id": "KNILbJXZMTZk"
      }
    },
    {
      "cell_type": "markdown",
      "source": [
        "#### We can create a Reddit bot using a library called praw.\n",
        "- It stands for \"python reddit API wrapper\"\n",
        "\n",
        "# https://praw.readthedocs.io/en/stable/index.html"
      ],
      "metadata": {
        "id": "mvThpegUMaGP"
      }
    },
    {
      "cell_type": "code",
      "source": [
        "!pip install praw"
      ],
      "metadata": {
        "colab": {
          "base_uri": "https://localhost:8080/"
        },
        "id": "JQqut9lE7LBf",
        "outputId": "a036925d-3294-483e-eae0-f22d32a6f72e"
      },
      "execution_count": null,
      "outputs": [
        {
          "output_type": "stream",
          "name": "stdout",
          "text": [
            "Collecting praw\n",
            "  Downloading praw-7.7.1-py3-none-any.whl (191 kB)\n",
            "\u001b[?25l     \u001b[90m━━━━━━━━━━━━━━━━━━━━━━━━━━━━━━━━━━━━━━━━\u001b[0m \u001b[32m0.0/191.0 kB\u001b[0m \u001b[31m?\u001b[0m eta \u001b[36m-:--:--\u001b[0m\r\u001b[2K     \u001b[90m━━━━━━━━━━━━━━━━━━━━━━━━━━━━━━━━━━━━━━━━\u001b[0m \u001b[32m191.0/191.0 kB\u001b[0m \u001b[31m7.5 MB/s\u001b[0m eta \u001b[36m0:00:00\u001b[0m\n",
            "\u001b[?25hCollecting prawcore<3,>=2.1 (from praw)\n",
            "  Downloading prawcore-2.4.0-py3-none-any.whl (17 kB)\n",
            "Collecting update-checker>=0.18 (from praw)\n",
            "  Downloading update_checker-0.18.0-py3-none-any.whl (7.0 kB)\n",
            "Requirement already satisfied: websocket-client>=0.54.0 in /usr/local/lib/python3.10/dist-packages (from praw) (1.7.0)\n",
            "Requirement already satisfied: requests<3.0,>=2.6.0 in /usr/local/lib/python3.10/dist-packages (from prawcore<3,>=2.1->praw) (2.31.0)\n",
            "Requirement already satisfied: charset-normalizer<4,>=2 in /usr/local/lib/python3.10/dist-packages (from requests<3.0,>=2.6.0->prawcore<3,>=2.1->praw) (3.3.2)\n",
            "Requirement already satisfied: idna<4,>=2.5 in /usr/local/lib/python3.10/dist-packages (from requests<3.0,>=2.6.0->prawcore<3,>=2.1->praw) (3.6)\n",
            "Requirement already satisfied: urllib3<3,>=1.21.1 in /usr/local/lib/python3.10/dist-packages (from requests<3.0,>=2.6.0->prawcore<3,>=2.1->praw) (2.0.7)\n",
            "Requirement already satisfied: certifi>=2017.4.17 in /usr/local/lib/python3.10/dist-packages (from requests<3.0,>=2.6.0->prawcore<3,>=2.1->praw) (2024.2.2)\n",
            "Installing collected packages: update-checker, prawcore, praw\n",
            "Successfully installed praw-7.7.1 prawcore-2.4.0 update-checker-0.18.0\n"
          ]
        }
      ]
    },
    {
      "cell_type": "code",
      "source": [
        "import praw"
      ],
      "metadata": {
        "id": "RAlkm0267LC0"
      },
      "execution_count": null,
      "outputs": []
    },
    {
      "cell_type": "markdown",
      "source": [
        "Go to reddit website and create an app\n",
        "https://www.reddit.com/prefs/apps"
      ],
      "metadata": {
        "id": "EXZCcjSCMu10"
      }
    },
    {
      "cell_type": "code",
      "source": [
        "client_id = open(\"/content/client_id.txt\").read()\n",
        "client_service = open(\"/content/client_secret.txt\").read()\n",
        "password = open(\"/content/password.txt\").read()\n",
        "user_agent = open(\"/content/user_agent.txt\").read()\n",
        "username = open(\"/content/username.txt\").read()"
      ],
      "metadata": {
        "id": "7xwi1fm75V65"
      },
      "execution_count": null,
      "outputs": []
    },
    {
      "cell_type": "code",
      "source": [
        "# https://praw.readthedocs.io/en/stable/getting_started/multiple_instances.html\n",
        "reddit = praw.Reddit(\n",
        "    client_id=client_id,\n",
        "    client_secret= client_service,\n",
        "    password = password,\n",
        "    user_agent = user_agent,\n",
        "    username = username,\n",
        "    check_for_async=False\n",
        ")"
      ],
      "metadata": {
        "id": "DmT-ouxg7LML"
      },
      "execution_count": null,
      "outputs": []
    },
    {
      "cell_type": "code",
      "source": [
        "reddit = praw.Reddit(\n",
        "    client_id=\"YLcWvQGkBKOlJVoDsjU72g\",\n",
        "    client_secret=\"PL2LF0EJE0UOiGkkj8uzXcu43FBrNQ\",\n",
        "    password=\"sonu@2004\",\n",
        "    user_agent=\"MyRedditBot/1.0 by Horror-Tree7988\",\n",
        "    username=\"Horror-Tree7988\",\n",
        "    check_for_async=False\n",
        ")"
      ],
      "metadata": {
        "id": "6Jla90QsGqwE"
      },
      "execution_count": null,
      "outputs": []
    },
    {
      "cell_type": "code",
      "source": [
        "# logging in to Reddit\n",
        "reddit.user.me()"
      ],
      "metadata": {
        "colab": {
          "base_uri": "https://localhost:8080/"
        },
        "id": "fmghqGmK7LNN",
        "outputId": "5faa00ed-af17-423e-a7d0-7cc22a48179f"
      },
      "execution_count": null,
      "outputs": [
        {
          "output_type": "stream",
          "name": "stderr",
          "text": [
            "WARNING:praw:It appears that you are using PRAW in an asynchronous environment.\n",
            "It is strongly recommended to use Async PRAW: https://asyncpraw.readthedocs.io.\n",
            "See https://praw.readthedocs.io/en/latest/getting_started/multiple_instances.html#discord-bots-and-asynchronous-environments for more info.\n",
            "\n"
          ]
        },
        {
          "output_type": "execute_result",
          "data": {
            "text/plain": [
              "Redditor(name='Horror-Tree7988')"
            ]
          },
          "metadata": {},
          "execution_count": 7
        }
      ]
    },
    {
      "cell_type": "code",
      "source": [
        "# getting data from Reddit\n",
        "#subreddit = reddit.subreddit(\"learnpython\")\n",
        "#for submission in subreddit.hot(limit = 5):\n",
        "  #print(submission.title)"
      ],
      "metadata": {
        "id": "jZ1ZdHBg7LRM"
      },
      "execution_count": null,
      "outputs": []
    },
    {
      "cell_type": "code",
      "source": [
        "subreddit = reddit.subreddit(\"cars\")\n",
        "for submission in subreddit.hot(limit = 5):\n",
        "  print(submission.title)"
      ],
      "metadata": {
        "colab": {
          "base_uri": "https://localhost:8080/"
        },
        "id": "yuUUDgV97LTB",
        "outputId": "028f9b64-55be-4aff-f948-32411317bc8a"
      },
      "execution_count": null,
      "outputs": [
        {
          "output_type": "stream",
          "name": "stderr",
          "text": [
            "WARNING:praw:It appears that you are using PRAW in an asynchronous environment.\n",
            "It is strongly recommended to use Async PRAW: https://asyncpraw.readthedocs.io.\n",
            "See https://praw.readthedocs.io/en/latest/getting_started/multiple_instances.html#discord-bots-and-asynchronous-environments for more info.\n",
            "\n"
          ]
        },
        {
          "output_type": "stream",
          "name": "stdout",
          "text": [
            "[Announcement] Reposts and random stolen cat pictures are NOT allowed on this subreddit.\n",
            "r/cat is looking for Moderators!\n",
            "Stray tabby advice\n",
            "Post the last photo of your cat in your camera roll, be honest\n",
            "Bought a 'cone' for my cat and its apparently too big.\n"
          ]
        }
      ]
    },
    {
      "cell_type": "code",
      "source": [
        "# Do something with the data\n",
        "subreddit = reddit.subreddit(\"cars\")\n",
        "for submission in subreddit.hot(limit = 5):\n",
        "  if not submission.stickied:\n",
        "    print(f\"Title: {submission.title}\")\n",
        "    print(f\"Score: {submission.score}\")\n",
        "    print(\"--------------\")"
      ],
      "metadata": {
        "colab": {
          "base_uri": "https://localhost:8080/"
        },
        "id": "vgihz0q7DR79",
        "outputId": "101dacfb-f94a-44f9-a1ab-9686065405e4"
      },
      "execution_count": null,
      "outputs": [
        {
          "output_type": "stream",
          "name": "stdout",
          "text": [
            "Title: Tested: 2024 Mercedes-AMG C63 Is the Quickest C-Class Ever\n",
            "Score: 76\n",
            "--------------\n",
            "Title: Toyota Orders Recall of 381,000 Tacomas with Rear-Axle Defect\n",
            "Score: 499\n",
            "--------------\n",
            "Title: Apple Cancels Electric Car Project\n",
            "Score: 998\n",
            "--------------\n"
          ]
        }
      ]
    },
    {
      "cell_type": "code",
      "source": [
        "# Post new submissions\n",
        "# Respond to comments\n",
        "# Automate tasks"
      ],
      "metadata": {
        "id": "d-p_JNkHDSN9"
      },
      "execution_count": null,
      "outputs": []
    },
    {
      "cell_type": "markdown",
      "source": [
        "# Posting new submission"
      ],
      "metadata": {
        "id": "3UGDJ5ecMKlx"
      }
    },
    {
      "cell_type": "code",
      "source": [
        "reddit.subreddit(\"test\").submit(title = \"My first reddit trial.\",\n",
        "                                selftext = \"Hi, this is my first trial.\"\n",
        "                                )"
      ],
      "metadata": {
        "colab": {
          "base_uri": "https://localhost:8080/"
        },
        "id": "LKlao02UG9dx",
        "outputId": "20f5ff95-deb7-4edd-ace6-427b30fc1aa5"
      },
      "execution_count": null,
      "outputs": [
        {
          "output_type": "stream",
          "name": "stderr",
          "text": [
            "WARNING:praw:It appears that you are using PRAW in an asynchronous environment.\n",
            "It is strongly recommended to use Async PRAW: https://asyncpraw.readthedocs.io.\n",
            "See https://praw.readthedocs.io/en/latest/getting_started/multiple_instances.html#discord-bots-and-asynchronous-environments for more info.\n",
            "\n"
          ]
        },
        {
          "output_type": "execute_result",
          "data": {
            "text/plain": [
              "Submission(id='1b2976k')"
            ]
          },
          "metadata": {},
          "execution_count": 12
        }
      ]
    },
    {
      "cell_type": "markdown",
      "source": [
        "# Comment on a known submission"
      ],
      "metadata": {
        "id": "ygUKJf5VN47k"
      }
    },
    {
      "cell_type": "code",
      "source": [
        "# https://github.com/praw-dev/praw\n",
        "submission = reddit.submission(url=\"https://www.reddit.com/r/test/comments/1aubrij/my_first_reddit_trial/\")\n",
        "submission.reply(\"fantastic\")"
      ],
      "metadata": {
        "colab": {
          "base_uri": "https://localhost:8080/"
        },
        "id": "xWlQRM33G9hu",
        "outputId": "083300dd-ddbc-493f-f5f9-bc0eb4121c75"
      },
      "execution_count": null,
      "outputs": [
        {
          "output_type": "stream",
          "name": "stderr",
          "text": [
            "WARNING:praw:It appears that you are using PRAW in an asynchronous environment.\n",
            "It is strongly recommended to use Async PRAW: https://asyncpraw.readthedocs.io.\n",
            "See https://praw.readthedocs.io/en/latest/getting_started/multiple_instances.html#discord-bots-and-asynchronous-environments for more info.\n",
            "\n"
          ]
        },
        {
          "output_type": "execute_result",
          "data": {
            "text/plain": [
              "Comment(id='ksjs0lo')"
            ]
          },
          "metadata": {},
          "execution_count": 13
        }
      ]
    }
  ],
  "metadata": {
    "accelerator": "GPU",
    "colab": {
      "provenance": [],
      "gpuType": "T4",
      "include_colab_link": true
    },
    "kernelspec": {
      "display_name": "Python 3",
      "name": "python3"
    },
    "language_info": {
      "name": "python"
    }
  },
  "nbformat": 4,
  "nbformat_minor": 0
}